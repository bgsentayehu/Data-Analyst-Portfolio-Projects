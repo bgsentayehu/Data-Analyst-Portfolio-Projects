{
 "cells": [
  {
   "cell_type": "code",
   "execution_count": 1,
   "metadata": {},
   "outputs": [],
   "source": [
    "#import necessary libraries\n",
    "import pandas as pd\n",
    "from bs4 import BeautifulSoup\n",
    "import requests\n",
    "import datetime\n",
    "import time\n",
    "import csv\n",
    "import smtplib\n"
   ]
  },
  {
   "cell_type": "code",
   "execution_count": 2,
   "metadata": {},
   "outputs": [],
   "source": [
    "# Connect to Website and pull in data\n",
    "\n",
    "url = 'https://www.amazon.com/Funny-Data-Systems-Business-Analyst/dp/B07FNW9FGJ/ref=sr_1_5?crid=1970UT9NESPPP&dib=eyJ2IjoiMSJ9.gN0NXnkiyUus8ggzZGK20k8ahHiI0mgqb7ZLkCx7FyrVkSB-Uz53Dw_bzldPsI6lV6cUmi2W5t3ZVt0sWQX0Ah6tdPnCFSOAVbKhJvSlHAkif_bkGqJYkY5XyOy1uqsiJGoKVEtWPI6UlJT5KI7ULvz9gKpY_UZoHfNMyMYcVO6Nuh3OA6Xn_4grIwJxmdE960GSTQ-bSuD36ilGWzDSsSlLrpflRx6nX5if3RZp_dm7np4Mp5OECmInfwfveB4HpcMQdUQzt4DcUJMTFj8Vio6nNBpTS_-QEDdLtZ3MQB0.07tw_FqgcBg1OUVVwV_kY0sCoOykNWYzEuD7Dlc9a4g&dib_tag=se&keywords=data%2Banalyst%2B_shirt&qid=1722984323&sprefix=data%2Banalyst%2B_shoirt%2Caps%2C128&sr=8-5'\n",
    "headers = {\n",
    "    \"Accept-Language\": \"en-US,en;q=0.9\", \n",
    "    \"Upgrade-Insecure-Requests\": \"1\", \n",
    "    \"User-Agent\": \"Mozilla/5.0 (Windows NT 10.0; Win64; x64) AppleWebKit/537.36 (KHTML, like Gecko) Chrome/127.0.0.0 Safari/537.36\"\n",
    "  }\n",
    "\n",
    "page = requests.get( url, headers=headers)\n",
    "\n",
    "soup1 = BeautifulSoup(page.content, \"html.parser\")\n",
    "soup2 = BeautifulSoup(soup1.prettify(),'html.parser')"
   ]
  },
  {
   "cell_type": "code",
   "execution_count": 3,
   "metadata": {},
   "outputs": [
    {
     "name": "stdout",
     "output_type": "stream",
     "text": [
      "Funny Got Data MIS Data Systems Business Analyst T-Shirt\n",
      "16.99\n",
      "4.3\n"
     ]
    }
   ],
   "source": [
    "#Extract the Title, Price ,and Rating of product\n",
    "Title = soup2.find(id = 'productTitle').text.strip()\n",
    "\n",
    "Price = soup2.find_all('span',class_=  'aok-offscreen')[0].text.strip()\n",
    "Price = Price[1:]\n",
    "\n",
    "rating = soup2.find('span',class_='a-size-base a-color-base').text.strip()\n",
    "\n",
    "date = datetime.date.today()\n",
    "\n",
    "print(Title)\n",
    "print(Price)\n",
    "print(rating)"
   ]
  },
  {
   "cell_type": "code",
   "execution_count": 4,
   "metadata": {},
   "outputs": [],
   "source": [
    "header = ['Product','Price','Rating out of 5']\n",
    "data = [Title,Price,rating]\n",
    "with open ('AmazonWebScraperDataset.csv','w',newline='',encoding='UTF8') as f:\n",
    "    writer=csv.writer(f)\n",
    "    writer.writerow(header)\n",
    "    writer.writerow(data)\n"
   ]
  },
  {
   "cell_type": "code",
   "execution_count": 5,
   "metadata": {},
   "outputs": [],
   "source": [
    "#create a function that a\n",
    "def checkPrice():\n",
    "    url = 'https://www.amazon.com/Funny-Data-Systems-Business-Analyst/dp/B07FNW9FGJ/ref=sr_1_5?crid=1970UT9NESPPP&dib=eyJ2IjoiMSJ9.gN0NXnkiyUus8ggzZGK20k8ahHiI0mgqb7ZLkCx7FyrVkSB-Uz53Dw_bzldPsI6lV6cUmi2W5t3ZVt0sWQX0Ah6tdPnCFSOAVbKhJvSlHAkif_bkGqJYkY5XyOy1uqsiJGoKVEtWPI6UlJT5KI7ULvz9gKpY_UZoHfNMyMYcVO6Nuh3OA6Xn_4grIwJxmdE960GSTQ-bSuD36ilGWzDSsSlLrpflRx6nX5if3RZp_dm7np4Mp5OECmInfwfveB4HpcMQdUQzt4DcUJMTFj8Vio6nNBpTS_-QEDdLtZ3MQB0.07tw_FqgcBg1OUVVwV_kY0sCoOykNWYzEuD7Dlc9a4g&dib_tag=se&keywords=data%2Banalyst%2B_shirt&qid=1722984323&sprefix=data%2Banalyst%2B_shoirt%2Caps%2C128&sr=8-5'\n",
    "    headers = {\n",
    "    \"Accept-Language\": \"en-US,en;q=0.9\", \n",
    "    \"Upgrade-Insecure-Requests\": \"1\", \n",
    "    \"User-Agent\": \"Mozilla/5.0 (Windows NT 10.0; Win64; x64) AppleWebKit/537.36 (KHTML, like Gecko) Chrome/127.0.0.0 Safari/537.36\"\n",
    "  }\n",
    "\n",
    "    page = requests.get( url, headers=headers)\n",
    "\n",
    "    soup1 = BeautifulSoup(page.content, \"html.parser\")\n",
    "    soup2 = BeautifulSoup(soup1.prettify(),'html.parser')\n",
    "    Title = soup2.find(id = 'productTitle').text.strip()\n",
    "\n",
    "    Price = soup2.find_all('span',class_=  'aok-offscreen')[0].text.strip()\n",
    "    Price = Price[1:]\n",
    "\n",
    "    rating = soup2.find('span',class_='a-size-base a-color-base').text.strip()\n",
    "\n",
    "    date = datetime.date.today()\n",
    "    date\n",
    "\n",
    "    data = [Title,Price,date,rating]\n",
    "\n",
    "    with open ('AmazonWebScraperDataset.csv','a+',newline='',encoding='UTF8') as f:\n",
    "        writer=csv.writer(f)\n",
    "        writer.writerow(data)\n"
   ]
  },
  {
   "cell_type": "code",
   "execution_count": 9,
   "metadata": {},
   "outputs": [],
   "source": [
    "#runs the checkPrice function after a set time and inputs values to csv\n",
    "while(True):\n",
    "    checkPrice()\n",
    "    time.sleep(86400)\n"
   ]
  }
 ],
 "metadata": {
  "kernelspec": {
   "display_name": "Python 3",
   "language": "python",
   "name": "python3"
  },
  "language_info": {
   "codemirror_mode": {
    "name": "ipython",
    "version": 3
   },
   "file_extension": ".py",
   "mimetype": "text/x-python",
   "name": "python",
   "nbconvert_exporter": "python",
   "pygments_lexer": "ipython3",
   "version": "3.12.2"
  }
 },
 "nbformat": 4,
 "nbformat_minor": 2
}
